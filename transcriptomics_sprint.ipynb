{
 "cells": [
  {
   "cell_type": "markdown",
   "metadata": {},
   "source": [
    "# Transcriptomics Sprint\n",
    "\n",
    "**Goal**: Train a simple regression model on ESM1b embeddings. \n",
    " 1. Load the data. \n",
    " 2. Run data through ESM model. \n",
    " 3. Cache representations to disk. \n",
    " 4. Train sklearn classifier on mean."
   ]
  },
  {
   "cell_type": "code",
   "execution_count": 26,
   "metadata": {},
   "outputs": [],
   "source": [
    "import os\n",
    "import pandas as pd\n",
    "import matplotlib.pyplot as plt\n",
    "\n",
    "import numpy as np\n",
    "\n",
    "from tqdm import tqdm \n",
    "\n",
    "import torch\n",
    "import esm"
   ]
  },
  {
   "cell_type": "code",
   "execution_count": 27,
   "metadata": {},
   "outputs": [
    {
     "data": {
      "text/html": [
       "<div>\n",
       "<style scoped>\n",
       "    .dataframe tbody tr th:only-of-type {\n",
       "        vertical-align: middle;\n",
       "    }\n",
       "\n",
       "    .dataframe tbody tr th {\n",
       "        vertical-align: top;\n",
       "    }\n",
       "\n",
       "    .dataframe thead th {\n",
       "        text-align: right;\n",
       "    }\n",
       "</style>\n",
       "<table border=\"1\" class=\"dataframe\">\n",
       "  <thead>\n",
       "    <tr style=\"text-align: right;\">\n",
       "      <th></th>\n",
       "      <th>ct</th>\n",
       "      <th>dna_count</th>\n",
       "      <th>rna_count</th>\n",
       "      <th>seq</th>\n",
       "    </tr>\n",
       "  </thead>\n",
       "  <tbody>\n",
       "    <tr>\n",
       "      <th>0</th>\n",
       "      <td>1.0</td>\n",
       "      <td>1.0</td>\n",
       "      <td>0.0</td>\n",
       "      <td>AAATTATGGATAAAAATGGTATGGCATAGCAAAGTGAGACGGCTGG...</td>\n",
       "    </tr>\n",
       "    <tr>\n",
       "      <th>1</th>\n",
       "      <td>1.0</td>\n",
       "      <td>1.0</td>\n",
       "      <td>0.0</td>\n",
       "      <td>AAATTATGGATAAAAATGGTATGGCATAGCAAAGTGAGACGGCTGG...</td>\n",
       "    </tr>\n",
       "    <tr>\n",
       "      <th>2</th>\n",
       "      <td>1.0</td>\n",
       "      <td>1.0</td>\n",
       "      <td>0.0</td>\n",
       "      <td>AAATTATGGATAAAAATGGTATGGCATAGCAAAGTGAGACGGCTGG...</td>\n",
       "    </tr>\n",
       "    <tr>\n",
       "      <th>3</th>\n",
       "      <td>5.0</td>\n",
       "      <td>5.0</td>\n",
       "      <td>0.0</td>\n",
       "      <td>AAATTATGGATAAAAATGGTATGGCATAGCAAAGTGAGACGGCTGG...</td>\n",
       "    </tr>\n",
       "    <tr>\n",
       "      <th>4</th>\n",
       "      <td>1.0</td>\n",
       "      <td>1.0</td>\n",
       "      <td>0.0</td>\n",
       "      <td>AAATTATGGATAAAAATGGTATGGCATAGCAAAGTGAGACGGCTGG...</td>\n",
       "    </tr>\n",
       "    <tr>\n",
       "      <th>...</th>\n",
       "      <td>...</td>\n",
       "      <td>...</td>\n",
       "      <td>...</td>\n",
       "      <td>...</td>\n",
       "    </tr>\n",
       "    <tr>\n",
       "      <th>6597</th>\n",
       "      <td>20.0</td>\n",
       "      <td>5.0</td>\n",
       "      <td>15.0</td>\n",
       "      <td>TTGTGATGGATAAATATGCGTTGGCAAAGCACAGTGAGACTCGGTG...</td>\n",
       "    </tr>\n",
       "    <tr>\n",
       "      <th>6598</th>\n",
       "      <td>2.0</td>\n",
       "      <td>0.0</td>\n",
       "      <td>2.0</td>\n",
       "      <td>TTGTGATGGATAAATATGCGTTGGCAAAGCACAGTGAGACTCGGTG...</td>\n",
       "    </tr>\n",
       "    <tr>\n",
       "      <th>6599</th>\n",
       "      <td>27.0</td>\n",
       "      <td>1.0</td>\n",
       "      <td>26.0</td>\n",
       "      <td>TTGTGATGGATAAATATGCGTTGGCAAAGCACAGTGAGACTCGGTG...</td>\n",
       "    </tr>\n",
       "    <tr>\n",
       "      <th>6600</th>\n",
       "      <td>12.0</td>\n",
       "      <td>0.0</td>\n",
       "      <td>12.0</td>\n",
       "      <td>TTGTGATGGATAAATATGCGTTGGCAAAGCACAGTGAGACTCGGTG...</td>\n",
       "    </tr>\n",
       "    <tr>\n",
       "      <th>6601</th>\n",
       "      <td>8.0</td>\n",
       "      <td>0.0</td>\n",
       "      <td>8.0</td>\n",
       "      <td>TTGTGATGGATAAATATGCGTTGGCAAAGCACAGTGAGACTCGGTG...</td>\n",
       "    </tr>\n",
       "  </tbody>\n",
       "</table>\n",
       "<p>6602 rows × 4 columns</p>\n",
       "</div>"
      ],
      "text/plain": [
       "        ct  dna_count  rna_count  \\\n",
       "0      1.0        1.0        0.0   \n",
       "1      1.0        1.0        0.0   \n",
       "2      1.0        1.0        0.0   \n",
       "3      5.0        5.0        0.0   \n",
       "4      1.0        1.0        0.0   \n",
       "...    ...        ...        ...   \n",
       "6597  20.0        5.0       15.0   \n",
       "6598   2.0        0.0        2.0   \n",
       "6599  27.0        1.0       26.0   \n",
       "6600  12.0        0.0       12.0   \n",
       "6601   8.0        0.0        8.0   \n",
       "\n",
       "                                                    seq  \n",
       "0     AAATTATGGATAAAAATGGTATGGCATAGCAAAGTGAGACGGCTGG...  \n",
       "1     AAATTATGGATAAAAATGGTATGGCATAGCAAAGTGAGACGGCTGG...  \n",
       "2     AAATTATGGATAAAAATGGTATGGCATAGCAAAGTGAGACGGCTGG...  \n",
       "3     AAATTATGGATAAAAATGGTATGGCATAGCAAAGTGAGACGGCTGG...  \n",
       "4     AAATTATGGATAAAAATGGTATGGCATAGCAAAGTGAGACGGCTGG...  \n",
       "...                                                 ...  \n",
       "6597  TTGTGATGGATAAATATGCGTTGGCAAAGCACAGTGAGACTCGGTG...  \n",
       "6598  TTGTGATGGATAAATATGCGTTGGCAAAGCACAGTGAGACTCGGTG...  \n",
       "6599  TTGTGATGGATAAATATGCGTTGGCAAAGCACAGTGAGACTCGGTG...  \n",
       "6600  TTGTGATGGATAAATATGCGTTGGCAAAGCACAGTGAGACTCGGTG...  \n",
       "6601  TTGTGATGGATAAATATGCGTTGGCAAAGCACAGTGAGACTCGGTG...  \n",
       "\n",
       "[6602 rows x 4 columns]"
      ]
     },
     "execution_count": 27,
     "metadata": {},
     "output_type": "execute_result"
    }
   ],
   "source": [
    "data_path = 'RegSeq_100_genes_data/'\n",
    "fname = 'araCAnaerodataset_alldone_with_large'\n",
    "\n",
    "df = pd.read_fwf(os.path.join(data_path, fname))\n",
    "\n",
    "# rename column 'ct' -> 'count' \n",
    "df = df.rename(columns={'ct_0':'dna_count'})\n",
    "df = df.rename(columns={'ct_1':'rna_count'})\n",
    "\n",
    "df"
   ]
  },
  {
   "cell_type": "code",
   "execution_count": 28,
   "metadata": {},
   "outputs": [
    {
     "data": {
      "text/plain": [
       "Text(0, 0.5, 'Frequency')"
      ]
     },
     "execution_count": 28,
     "metadata": {},
     "output_type": "execute_result"
    },
    {
     "data": {
      "image/png": "[encoded data removed]",
      "text/plain": [
       "<Figure size 640x480 with 1 Axes>"
      ]
     },
     "metadata": {},
     "output_type": "display_data"
    }
   ],
   "source": [
    "# histogram of dna_count \n",
    "df['dna_count'].hist(bins=100)\n",
    "# title \n",
    "plt.title(f'Histogram of DNA counts (total = {len(df)})')\n",
    "# x-axis label\n",
    "plt.xlabel('DNA count')\n",
    "# y-axis label\n",
    "plt.ylabel('Frequency')"
   ]
  },
  {
   "cell_type": "markdown",
   "metadata": {},
   "source": [
    "Let's remove the rows with zero DNA count. "
   ]
  },
  {
   "cell_type": "code",
   "execution_count": 29,
   "metadata": {},
   "outputs": [
    {
     "data": {
      "text/plain": [
       "Text(0, 0.5, 'Frequency')"
      ]
     },
     "execution_count": 29,
     "metadata": {},
     "output_type": "execute_result"
    },
    {
     "data": {
      "image/png": "[encoded data removed]",
      "text/plain": [
       "<Figure size 640x480 with 1 Axes>"
      ]
     },
     "metadata": {},
     "output_type": "display_data"
    }
   ],
   "source": [
    "df = df[df['dna_count'] > 0]\n",
    "# reset index\n",
    "df = df.reset_index(drop=True)\n",
    "\n",
    "# new histogram\n",
    "df['dna_count'].hist(bins=100)\n",
    "# title\n",
    "plt.title(f'Histogram of DNA counts (total = {len(df)})')\n",
    "# x-axis label\n",
    "plt.xlabel('DNA count')\n",
    "# y-axis label\n",
    "plt.ylabel('Frequency')"
   ]
  },
  {
   "cell_type": "markdown",
   "metadata": {},
   "source": [
    "## 2: Run the Data thru ESM Model"
   ]
  },
  {
   "cell_type": "code",
   "execution_count": 42,
   "metadata": {},
   "outputs": [
    {
     "name": "stdout",
     "output_type": "stream",
     "text": [
      "Model device:  cpu\n"
     ]
    }
   ],
   "source": [
    "# %%  Load ESM-2 model\n",
    "model, alphabet = esm.pretrained.esm2_t33_650M_UR50D()\n",
    "batch_converter = alphabet.get_batch_converter()\n",
    "model.eval()  # disables dropout for deterministic results\n",
    "\n",
    "# model.to('mps')\n",
    "\n",
    "print(\"Model device: \", next(model.parameters()).device)"
   ]
  },
  {
   "cell_type": "code",
   "execution_count": 43,
   "metadata": {},
   "outputs": [
    {
     "name": "stdout",
     "output_type": "stream",
     "text": [
      "Length of data_list:  5812\n",
      "\n",
      "\n",
      "First 3 elements: \n"
     ]
    },
    {
     "data": {
      "text/plain": [
       "[('prot0',\n",
       "  'AAATTATGGATAAAAATGGTATGGCATAGCAAAGTGAGACGGCTGGCAAAAAATCGATGGGGACTCTTCTGCCGGGATTATCGACACTTTTGTTACGCGTTTTTGTCATGGTTTTGGTGCCGCTTCGGTACAGAATGCTTTTAATAAGCGGGGTTACTGGAAGATCTCCCGTAGGCTTGA'),\n",
       " ('prot1',\n",
       "  'AAATTATGGATAAAAATGGTATGGCATAGCAAAGTGAGACGGCTGGCAAAAAATCGATGGGGACTCTTCTGCCGGGATTATCGACACTTTTGTTACGCGTTTTTGTCATGGTTTTGGTGCCGCTTCGGTACAGAATGCTTTTAATAAGCGGGGTTACTGGATCCGAAACGTCCCAGGTTT'),\n",
       " ('prot2',\n",
       "  'AAATTATGGATAAAAATGGTATGGCATAGCAAAGTGAGACGGCTGGCAAAAAATCGATGGGGACTCTTCTGCCGGGATTATCGACACTTTTGTTACGCGTTTTTGTCATGGTTTTGGTGCCGCTTCGGTACAGAATGCTTTTAATAAGCGGGGTTACTGGCTAACAAGCGACGCCACGGA')]"
      ]
     },
     "execution_count": 43,
     "metadata": {},
     "output_type": "execute_result"
    }
   ],
   "source": [
    "# Format the data for use in ESM \n",
    "# iterate thru rows of df \n",
    "data_list = []\n",
    "\n",
    "for index, row in df.iterrows():\n",
    "    # get dna sequence \n",
    "    seq = row['seq']\n",
    "    # convert to uppercase \n",
    "    seq = seq.upper()\n",
    "    tup = (f'prot{index}', seq)\n",
    "    data_list.append(tup)\n",
    "\n",
    "\n",
    "\n",
    "batch_labels, batch_strs, batch_tokens = batch_converter(data_list)\n",
    "batch_lens = (batch_tokens != alphabet.padding_idx).sum(1)\n",
    "\n",
    "print(\"Length of data_list: \", len(data_list)) \n",
    "print(\"\\n\\nFirst 3 elements: \")\n",
    "data_list[:3]"
   ]
  },
  {
   "cell_type": "markdown",
   "metadata": {},
   "source": [
    "Let's run the sequences through the model! \n",
    "\n",
    "We will use a batch size of 10 so we don't destroy our computer :)"
   ]
  },
  {
   "cell_type": "code",
   "execution_count": 46,
   "metadata": {},
   "outputs": [
    {
     "name": "stderr",
     "output_type": "stream",
     "text": [
      "  0%|          | 21/5812 [00:12<58:20,  1.65it/s]\n"
     ]
    }
   ],
   "source": [
    "# %% Extract per-residue representations (on CPU)\n",
    "batch_size = 1\n",
    "results_list = []\n",
    "\n",
    "# iterate thru data_list in batches\n",
    "for batch_idx in tqdm(range(0, len(data_list), batch_size)):\n",
    "    batch_tokens_ = batch_tokens[batch_idx:batch_idx+batch_size]\n",
    "    batch_labels_ = batch_labels[batch_idx:batch_idx+batch_size]\n",
    "    with torch.no_grad():\n",
    "        results = model(batch_tokens_, repr_layers=[33], return_contacts=True)\n",
    "    token_representations_ = results[\"representations\"][33]\n",
    "    results_list.append(token_representations_)"
   ]
  },
  {
   "cell_type": "code",
   "execution_count": 54,
   "metadata": {},
   "outputs": [],
   "source": [
    "results_list[1].shape\n",
    "token_representations = torch.cat(results_list, dim=0)\n",
    "token_representations.shape\n",
    "\n",
    "# cache to disk \n",
    "torch.save(token_representations, f'token_representations_{token_representations.shape[0]}.pt')"
   ]
  },
  {
   "cell_type": "code",
   "execution_count": 10,
   "metadata": {},
   "outputs": [],
   "source": [
    "# %% Generate per-sequence representations via averaging\n",
    "# NOTE: token 0 is always a beginning-of-sequence token, so the first residue is token 1.\n",
    "sequence_representations = []\n",
    "\n",
    "for i, tokens_len in enumerate(batch_lens):\n",
    "    sequence_representations.append(token_representations[i, 1 : tokens_len - 1].mean(0))"
   ]
  },
  {
   "cell_type": "code",
   "execution_count": 12,
   "metadata": {},
   "outputs": [
    {
     "data": {
      "text/plain": [
       "torch.Size([1280])"
      ]
     },
     "execution_count": 12,
     "metadata": {},
     "output_type": "execute_result"
    }
   ],
   "source": [
    "sequence_representations[0].shape"
   ]
  },
  {
   "cell_type": "markdown",
   "metadata": {},
   "source": [
    "# Performing regression\n",
    "\n",
    "Let's try to predict the normalized mRNA count (i.e., `mrna_count / dna_count`)"
   ]
  },
  {
   "cell_type": "code",
   "execution_count": 17,
   "metadata": {},
   "outputs": [
    {
     "data": {
      "image/png": "[encoded data removed]",
      "text/plain": [
       "<Figure size 640x480 with 1 Axes>"
      ]
     },
     "metadata": {},
     "output_type": "display_data"
    }
   ],
   "source": [
    "df['normalized_rna_count'] = df['rna_count'] / df['dna_count']\n",
    "# histogram of normalized\n",
    "df['normalized_rna_count'].hist(bins=100)\n",
    "\n",
    "num_sequences = len(sequence_representations)\n",
    "\n",
    "label_column = df['normalized_rna_count'].tolist()[:num_sequences]\n",
    "label_column = np.array(label_column)"
   ]
  },
  {
   "cell_type": "code",
   "execution_count": 19,
   "metadata": {},
   "outputs": [
    {
     "name": "stdout",
     "output_type": "stream",
     "text": [
      "Sequence representations shape:  (22, 1280)\n"
     ]
    }
   ],
   "source": [
    "# convert sequence representations to numpy array\n",
    "sequence_representations = [np.array(x) for x in sequence_representations]\n",
    "sequence_representations = np.array(sequence_representations)\n",
    "\n",
    "# print shape \n",
    "print(\"Sequence representations shape: \", sequence_representations.shape)"
   ]
  },
  {
   "cell_type": "code",
   "execution_count": 21,
   "metadata": {},
   "outputs": [
    {
     "name": "stdout",
     "output_type": "stream",
     "text": [
      "r^2 on test set:  -1.4460279208098652\n",
      "r^2 on train set:  0.9999999999968177\n"
     ]
    }
   ],
   "source": [
    "# train linear regression model from sequence_oredictions to label_column\n",
    "from sklearn.linear_model import LinearRegression\n",
    "from sklearn.model_selection import train_test_split\n",
    "\n",
    "# split into train and test sets\n",
    "X_train, X_test, y_train, y_test = train_test_split(sequence_representations, label_column, test_size=0.25, random_state=42)\n",
    "\n",
    "# fit model\n",
    "model = LinearRegression()\n",
    "model.fit(X_train, y_train)\n",
    "\n",
    "# evaluate model\n",
    "y_pred = model.predict(X_test)\n",
    "\n",
    "# r^2 on test set \n",
    "r2 = model.score(X_test, y_test)\n",
    "print(\"r^2 on test set: \", r2)\n",
    "\n",
    "# r^2 on train set\n",
    "r2 = model.score(X_train, y_train)\n",
    "print(\"r^2 on train set: \", r2)"
   ]
  },
  {
   "cell_type": "code",
   "execution_count": null,
   "metadata": {},
   "outputs": [],
   "source": []
  }
 ],
 "metadata": {
  "kernelspec": {
   "display_name": "env",
   "language": "python",
   "name": "python3"
  },
  "language_info": {
   "codemirror_mode": {
    "name": "ipython",
    "version": 3
   },
   "file_extension": ".py",
   "mimetype": "text/x-python",
   "name": "python",
   "nbconvert_exporter": "python",
   "pygments_lexer": "ipython3",
   "version": "3.11.6"
  }
 },
 "nbformat": 4,
 "nbformat_minor": 2
}
