{
 "cells": [
  {
   "cell_type": "markdown",
   "metadata": {},
   "source": [
    "# Ready-to-use Bio Sequencing Regression MVP\n",
    "\n",
    "**Goal**: Train a simple regression model on ESM1b embeddings of a {sequence, readout} dataset.\n",
    "\n",
    "\n",
    "Do you have a dataset of {sequence, readout} pairs? Are your sequences full of \n",
    "A, C, T, and G? \n",
    "\n",
    "Use this script to run a baseline regression model on it. Replace the stuff in \n",
    "\"Section 1\" with your own CSV import, then run the rest. \n",
    "\n",
    "**Steps**: \n",
    " 1. Load the data. \n",
    " 2. Run data through ESM model. \n",
    " 3. Cache representations to disk (save compute). \n",
    " 4. [Simplification] Compute the mean token representation for each sequence -- used as feature vector for the next step. \n",
    " 5. [Simplification] Make a train/validation/test set, train a regularized linear regression model. \n",
    " 6. View the train/test performance. "
   ]
  },
  {
   "cell_type": "code",
   "execution_count": 1,
   "metadata": {},
   "outputs": [],
   "source": [
    "# Import box \n",
    "import os\n",
    "import pandas as pd\n",
    "import matplotlib.pyplot as plt\n",
    "import numpy as np\n",
    "\n",
    "from tqdm import tqdm \n",
    "\n",
    "import torch\n",
    "import esm"
   ]
  },
  {
   "cell_type": "code",
   "execution_count": 2,
   "metadata": {},
   "outputs": [],
   "source": [
    "DEVICE = 'cuda' if torch.cuda.is_available() else 'cpu'\n",
    "PLOT = False # do we want to plot intermediate figures? "
   ]
  },
  {
   "cell_type": "markdown",
   "metadata": {},
   "source": [
    "## 1: Load your sequence-readout dataset\n",
    "\n",
    "I'm loading in some gene regulation data from Kevin (who in turn got it from our good friend [Bob Phillips](https://www.bbe.caltech.edu/people/rob-phillips))."
   ]
  },
  {
   "cell_type": "code",
   "execution_count": 3,
   "metadata": {},
   "outputs": [
    {
     "data": {
      "text/html": [
       "<div>\n",
       "<style scoped>\n",
       "    .dataframe tbody tr th:only-of-type {\n",
       "        vertical-align: middle;\n",
       "    }\n",
       "\n",
       "    .dataframe tbody tr th {\n",
       "        vertical-align: top;\n",
       "    }\n",
       "\n",
       "    .dataframe thead th {\n",
       "        text-align: right;\n",
       "    }\n",
       "</style>\n",
       "<table border=\"1\" class=\"dataframe\">\n",
       "  <thead>\n",
       "    <tr style=\"text-align: right;\">\n",
       "      <th></th>\n",
       "      <th>ct</th>\n",
       "      <th>dna_count</th>\n",
       "      <th>rna_count</th>\n",
       "      <th>seq</th>\n",
       "    </tr>\n",
       "  </thead>\n",
       "  <tbody>\n",
       "    <tr>\n",
       "      <th>0</th>\n",
       "      <td>1.0</td>\n",
       "      <td>1.0</td>\n",
       "      <td>0.0</td>\n",
       "      <td>AAATTATGGATAAAAATGGTATGGCATAGCAAAGTGAGACGGCTGG...</td>\n",
       "    </tr>\n",
       "    <tr>\n",
       "      <th>1</th>\n",
       "      <td>1.0</td>\n",
       "      <td>1.0</td>\n",
       "      <td>0.0</td>\n",
       "      <td>AAATTATGGATAAAAATGGTATGGCATAGCAAAGTGAGACGGCTGG...</td>\n",
       "    </tr>\n",
       "    <tr>\n",
       "      <th>2</th>\n",
       "      <td>1.0</td>\n",
       "      <td>1.0</td>\n",
       "      <td>0.0</td>\n",
       "      <td>AAATTATGGATAAAAATGGTATGGCATAGCAAAGTGAGACGGCTGG...</td>\n",
       "    </tr>\n",
       "  </tbody>\n",
       "</table>\n",
       "</div>"
      ],
      "text/plain": [
       "    ct  dna_count  rna_count  \\\n",
       "0  1.0        1.0        0.0   \n",
       "1  1.0        1.0        0.0   \n",
       "2  1.0        1.0        0.0   \n",
       "\n",
       "                                                 seq  \n",
       "0  AAATTATGGATAAAAATGGTATGGCATAGCAAAGTGAGACGGCTGG...  \n",
       "1  AAATTATGGATAAAAATGGTATGGCATAGCAAAGTGAGACGGCTGG...  \n",
       "2  AAATTATGGATAAAAATGGTATGGCATAGCAAAGTGAGACGGCTGG...  "
      ]
     },
     "execution_count": 3,
     "metadata": {},
     "output_type": "execute_result"
    }
   ],
   "source": [
    "data_path = 'RegSeq_100_genes_data/'\n",
    "fname = 'araCAnaerodataset_alldone_with_large'\n",
    "df = pd.read_fwf(os.path.join(data_path, fname))\n",
    "\n",
    "# rename column 'ct' -> 'count' \n",
    "df = df.rename(columns={'ct_0':'dna_count'})\n",
    "df = df.rename(columns={'ct_1':'rna_count'})\n",
    "df.head(3)"
   ]
  },
  {
   "cell_type": "code",
   "execution_count": 4,
   "metadata": {},
   "outputs": [],
   "source": [
    "# plot scatter plot of dna_count, rna_count \n",
    "if PLOT: \n",
    "    plt.scatter(df['dna_count'], df['rna_count'])\n",
    "    plt.xlabel('DNA count')\n",
    "    plt.ylabel('RNA count')\n",
    "    plt.title('DNA count vs RNA count')\n",
    "    plt.show()\n"
   ]
  },
  {
   "cell_type": "code",
   "execution_count": 5,
   "metadata": {},
   "outputs": [],
   "source": [
    "# scatter of ct, dna_count \n",
    "if PLOT: \n",
    "    plt.scatter(df['ct'], df['dna_count'])\n",
    "    plt.xlabel('ct')\n",
    "    plt.ylabel('DNA count')\n",
    "    plt.title('ct vs DNA count')\n",
    "    plt.show()"
   ]
  },
  {
   "cell_type": "markdown",
   "metadata": {},
   "source": [
    "Let's remove the rows with zero DNA count. "
   ]
  },
  {
   "cell_type": "code",
   "execution_count": 6,
   "metadata": {},
   "outputs": [],
   "source": [
    "df = df[df['dna_count'] > 0]\n",
    "# reset index\n",
    "\n",
    "# new histogram\n",
    "if PLOT: \n",
    "    df['dna_count'].hist(bins=100)\n",
    "    # title\n",
    "    plt.title(f'Histogram of DNA counts (total = {len(df)})')\n",
    "    # x-axis label\n",
    "    plt.xlabel('DNA count')\n",
    "    # y-axis label\n",
    "    plt.ylabel('Frequency')"
   ]
  },
  {
   "cell_type": "markdown",
   "metadata": {},
   "source": [
    "Apparently, the expression level is the ratio of RNA count to DNA count. \n",
    "\n",
    "Let's add an \"expression\" column for that. "
   ]
  },
  {
   "cell_type": "code",
   "execution_count": 7,
   "metadata": {},
   "outputs": [],
   "source": [
    "df['expression'] = df['rna_count'] / df['dna_count']\n",
    "df['log_expression'] = np.log(df['expression']+1e-9)\n",
    "\n",
    "\n",
    "if PLOT: \n",
    "    df['expression'].hist(bins=100)"
   ]
  },
  {
   "cell_type": "code",
   "execution_count": 8,
   "metadata": {},
   "outputs": [],
   "source": [
    "# scatter plot of expression vs. ct\n",
    "if PLOT: \n",
    "    plt.scatter(df['ct'], df['expression'])\n",
    "    plt.xlabel('ct')\n",
    "    plt.ylabel('Expression')\n",
    "    plt.title('Expression vs ct')\n",
    "    plt.show()\n"
   ]
  },
  {
   "cell_type": "markdown",
   "metadata": {},
   "source": [
    "Let's cache the csv to disk for future reference -- e.g., writing experiment \n",
    "scripts to run at scale. "
   ]
  },
  {
   "cell_type": "code",
   "execution_count": 9,
   "metadata": {},
   "outputs": [
    {
     "name": "stdout",
     "output_type": "stream",
     "text": [
      "Saving to  cache/araCAnaerodataset_alldone_with_large_filtered_5812.csv ...\n",
      "Done!\n"
     ]
    }
   ],
   "source": [
    "# reset index \n",
    "df = df.reset_index(drop=True)\n",
    "\n",
    "# make the cache dir if it doesn't already exist \n",
    "if not os.path.exists('cache'):\n",
    "    os.makedirs('cache')\n",
    "\n",
    "# save the filtered dataframe to disk \n",
    "save_name = f'cache/{fname}_filtered_{len(df)}.csv'\n",
    "print(\"Saving to \", save_name, \"...\")\n",
    "df.to_csv(save_name, index=False)\n",
    "print(\"Done!\")"
   ]
  },
  {
   "cell_type": "code",
   "execution_count": 10,
   "metadata": {},
   "outputs": [
    {
     "data": {
      "text/html": [
       "<div>\n",
       "<style scoped>\n",
       "    .dataframe tbody tr th:only-of-type {\n",
       "        vertical-align: middle;\n",
       "    }\n",
       "\n",
       "    .dataframe tbody tr th {\n",
       "        vertical-align: top;\n",
       "    }\n",
       "\n",
       "    .dataframe thead th {\n",
       "        text-align: right;\n",
       "    }\n",
       "</style>\n",
       "<table border=\"1\" class=\"dataframe\">\n",
       "  <thead>\n",
       "    <tr style=\"text-align: right;\">\n",
       "      <th></th>\n",
       "      <th>ct</th>\n",
       "      <th>dna_count</th>\n",
       "      <th>rna_count</th>\n",
       "      <th>seq</th>\n",
       "      <th>expression</th>\n",
       "      <th>log_expression</th>\n",
       "    </tr>\n",
       "  </thead>\n",
       "  <tbody>\n",
       "    <tr>\n",
       "      <th>0</th>\n",
       "      <td>1.0</td>\n",
       "      <td>1.0</td>\n",
       "      <td>0.0</td>\n",
       "      <td>AAATTATGGATAAAAATGGTATGGCATAGCAAAGTGAGACGGCTGG...</td>\n",
       "      <td>0.0</td>\n",
       "      <td>-20.723266</td>\n",
       "    </tr>\n",
       "    <tr>\n",
       "      <th>1</th>\n",
       "      <td>1.0</td>\n",
       "      <td>1.0</td>\n",
       "      <td>0.0</td>\n",
       "      <td>AAATTATGGATAAAAATGGTATGGCATAGCAAAGTGAGACGGCTGG...</td>\n",
       "      <td>0.0</td>\n",
       "      <td>-20.723266</td>\n",
       "    </tr>\n",
       "    <tr>\n",
       "      <th>2</th>\n",
       "      <td>1.0</td>\n",
       "      <td>1.0</td>\n",
       "      <td>0.0</td>\n",
       "      <td>AAATTATGGATAAAAATGGTATGGCATAGCAAAGTGAGACGGCTGG...</td>\n",
       "      <td>0.0</td>\n",
       "      <td>-20.723266</td>\n",
       "    </tr>\n",
       "  </tbody>\n",
       "</table>\n",
       "</div>"
      ],
      "text/plain": [
       "    ct  dna_count  rna_count  \\\n",
       "0  1.0        1.0        0.0   \n",
       "1  1.0        1.0        0.0   \n",
       "2  1.0        1.0        0.0   \n",
       "\n",
       "                                                 seq  expression  \\\n",
       "0  AAATTATGGATAAAAATGGTATGGCATAGCAAAGTGAGACGGCTGG...         0.0   \n",
       "1  AAATTATGGATAAAAATGGTATGGCATAGCAAAGTGAGACGGCTGG...         0.0   \n",
       "2  AAATTATGGATAAAAATGGTATGGCATAGCAAAGTGAGACGGCTGG...         0.0   \n",
       "\n",
       "   log_expression  \n",
       "0      -20.723266  \n",
       "1      -20.723266  \n",
       "2      -20.723266  "
      ]
     },
     "execution_count": 10,
     "metadata": {},
     "output_type": "execute_result"
    }
   ],
   "source": [
    "df.head(3)"
   ]
  },
  {
   "cell_type": "markdown",
   "metadata": {},
   "source": [
    "## 2: Run the Sequences thru ESM Model\n",
    "\n",
    "At this point, the dataframe is formatted with a 'sequence' column.\n",
    "\n",
    "\n",
    "NOTE: Get rid of the `model.to('cuda')` line if you don't have a CUDA GPU.\n",
    "\n",
    "Without a GPU, this takes ~1 hour to run on my Macbook air. It takes about 1 \n",
    "minute to run on an A100 GPU. \n",
    "\n",
    "See the [ESM](https://github.com/facebookresearch/esm) Github to see if the \n",
    "esm2_t33_650M_UR50D model will fit on your GPU. "
   ]
  },
  {
   "cell_type": "code",
   "execution_count": 78,
   "metadata": {},
   "outputs": [
    {
     "name": "stdout",
     "output_type": "stream",
     "text": [
      "Model device:  cuda:0\n"
     ]
    }
   ],
   "source": [
    "# %%  Load ESM-2 model\n",
    "model, alphabet = esm.pretrained.esm2_t33_650M_UR50D()\n",
    "batch_converter = alphabet.get_batch_converter()\n",
    "model.eval()  # disables dropout for deterministic results\n",
    "\n",
    "model.to(DEVICE)\n",
    "\n",
    "print(\"Model device: \", next(model.parameters()).device)"
   ]
  },
  {
   "cell_type": "code",
   "execution_count": 86,
   "metadata": {},
   "outputs": [
    {
     "name": "stdout",
     "output_type": "stream",
     "text": [
      "Length of data_list:  5812\n",
      "\n",
      "First 3 elements: \n"
     ]
    },
    {
     "data": {
      "text/plain": [
       "[('prot0',\n",
       "  'AAATTATGGATAAAAATGGTATGGCATAGCAAAGTGAGACGGCTGGCAAAAAATCGATGGGGACTCTTCTGCCGGGATTATCGACACTTTTGTTACGCGTTTTTGTCATGGTTTTGGTGCCGCTTCGGTACAGAATGCTTTTAATAAGCGGGGTTACTGGAAGATCTCCCGTAGGCTTGA'),\n",
       " ('prot1',\n",
       "  'AAATTATGGATAAAAATGGTATGGCATAGCAAAGTGAGACGGCTGGCAAAAAATCGATGGGGACTCTTCTGCCGGGATTATCGACACTTTTGTTACGCGTTTTTGTCATGGTTTTGGTGCCGCTTCGGTACAGAATGCTTTTAATAAGCGGGGTTACTGGATCCGAAACGTCCCAGGTTT'),\n",
       " ('prot2',\n",
       "  'AAATTATGGATAAAAATGGTATGGCATAGCAAAGTGAGACGGCTGGCAAAAAATCGATGGGGACTCTTCTGCCGGGATTATCGACACTTTTGTTACGCGTTTTTGTCATGGTTTTGGTGCCGCTTCGGTACAGAATGCTTTTAATAAGCGGGGTTACTGGCTAACAAGCGACGCCACGGA')]"
      ]
     },
     "execution_count": 86,
     "metadata": {},
     "output_type": "execute_result"
    }
   ],
   "source": [
    "# Format the data for use in ESM \n",
    "# iterate thru rows of df \n",
    "data_list = []\n",
    "\n",
    "for index, row in df.iterrows():\n",
    "    # get dna sequence \n",
    "    seq = row['seq']\n",
    "    # convert to uppercase \n",
    "    seq = seq.upper()\n",
    "    tup = (f'prot{index}', seq)\n",
    "    data_list.append(tup)\n",
    "\n",
    "\n",
    "\n",
    "batch_labels, batch_strs, batch_tokens = batch_converter(data_list)\n",
    "batch_lens = (batch_tokens != alphabet.padding_idx).sum(1)\n",
    "\n",
    "print(\"Length of data_list: \", len(data_list)) \n",
    "print(\"\\nFirst 3 elements: \")\n",
    "data_list[:3]"
   ]
  },
  {
   "cell_type": "code",
   "execution_count": 88,
   "metadata": {},
   "outputs": [
    {
     "name": "stdout",
     "output_type": "stream",
     "text": [
      "Our token tensor has 5812 sequences with the max sequence length 182\n",
      "\t--> batch_tokens.shape = torch.Size([5812, 182])\n"
     ]
    }
   ],
   "source": [
    "batch_tokens = batch_tokens.to('cuda')\n",
    "batch_tokens.shape\n",
    "\n",
    "print(f\"Our token tensor has {batch_tokens.shape[0]} sequences with the max sequence length {batch_tokens.shape[1]}\")\n",
    "print(f\"\\t--> batch_tokens.shape = {batch_tokens.shape}\")"
   ]
  },
  {
   "cell_type": "markdown",
   "metadata": {},
   "source": [
    "Let's run the sequences through the model! \n",
    "\n",
    "We will use a batch size of 10 so we don't destroy our computer :)"
   ]
  },
  {
   "cell_type": "code",
   "execution_count": 27,
   "metadata": {},
   "outputs": [
    {
     "name": "stderr",
     "output_type": "stream",
     "text": [
      "100%|██████████| 582/582 [01:48<00:00,  5.37it/s]\n"
     ]
    }
   ],
   "source": [
    "# %% Extract per-residue representations \n",
    "batch_size = 10\n",
    "results_list = []\n",
    "\n",
    "# iterate thru data_list in batches\n",
    "for batch_idx in tqdm(range(0, len(data_list), batch_size)):\n",
    "    batch_tokens_ = batch_tokens[batch_idx:batch_idx+batch_size]\n",
    "    batch_labels_ = batch_labels[batch_idx:batch_idx+batch_size]\n",
    "    with torch.no_grad():\n",
    "        results = model(batch_tokens_, repr_layers=[33], return_contacts=True)\n",
    "    token_representations_ = results[\"representations\"][33]\n",
    "    results_list.append(token_representations_)"
   ]
  },
  {
   "cell_type": "code",
   "execution_count": 92,
   "metadata": {},
   "outputs": [
    {
     "data": {
      "text/plain": [
       "torch.Size([5812, 182, 1280])"
      ]
     },
     "execution_count": 92,
     "metadata": {},
     "output_type": "execute_result"
    }
   ],
   "source": [
    "# un-batching into a single tensor\n",
    "results_list[1].shape\n",
    "token_representations = torch.cat(results_list, dim=0)\n",
    "token_representations.shape"
   ]
  },
  {
   "cell_type": "code",
   "execution_count": 95,
   "metadata": {},
   "outputs": [
    {
     "name": "stdout",
     "output_type": "stream",
     "text": [
      "token_representations has: \n",
      " - 5812 sequences \n",
      " - max sequence length 182 \n",
      " - embedding dimension 1280\n"
     ]
    }
   ],
   "source": [
    "print(f\"token_representations has: \\n - {token_representations.shape[0]} sequences \\n - max sequence length {token_representations.shape[1]} \\n - embedding dimension {token_representations.shape[2]}\")"
   ]
  },
  {
   "cell_type": "markdown",
   "metadata": {},
   "source": [
    "### Cache/Load from Disk"
   ]
  },
  {
   "cell_type": "code",
   "execution_count": 89,
   "metadata": {},
   "outputs": [],
   "source": [
    "# cache to disk \n",
    "torch.save(token_representations, f'cache/token_representations_{token_representations.shape[0]}.pt')"
   ]
  },
  {
   "cell_type": "code",
   "execution_count": 11,
   "metadata": {},
   "outputs": [],
   "source": [
    "# load from disk \n",
    "token_representations = torch.load(f'cache/token_representations_5812.pt')\n",
    "token_representations.shape\n",
    "token_representations = token_representations.cpu()"
   ]
  },
  {
   "cell_type": "markdown",
   "metadata": {},
   "source": [
    "# Classification \n",
    "\n",
    "Let's see if we can classify the data into \"high-expression\" and \"low-expression\" \n",
    "classes. We will start with predicting if there is non-zero expression (~24% of the time, \n",
    "taking care to stratify everything). "
   ]
  },
  {
   "cell_type": "code",
   "execution_count": 62,
   "metadata": {},
   "outputs": [
    {
     "name": "stdout",
     "output_type": "stream",
     "text": [
      "sequence_representations tensor holds: \n",
      " - 5812 sequences \n",
      " - 1280-dimensional embeddings for each sequence.\n"
     ]
    }
   ],
   "source": [
    "# Extract the mean token representation for each sequence\n",
    "mode = 'mean'\n",
    "\n",
    "if mode == 'mean': \n",
    "    sequence_representations = token_representations.mean(1)\n",
    "elif mode == 'flatten':\n",
    "    sequence_representations = token_representations.reshape(5812, 1280*182)\n",
    "    sequence_representations.shape\n",
    "\n",
    "print(f\"sequence_representations tensor holds: \\n - {sequence_representations.shape[0]} sequences \\n - {sequence_representations.shape[1]}-dimensional embeddings for each sequence.\")\n",
    "assert len(sequence_representations.shape) == 2"
   ]
  },
  {
   "cell_type": "code",
   "execution_count": 63,
   "metadata": {},
   "outputs": [
    {
     "name": "stdout",
     "output_type": "stream",
     "text": [
      "The portion of zero-expression sequences is 0.24\n"
     ]
    }
   ],
   "source": [
    "portion_0 = len(df[df['rna_count'] > 0])/len(df)\n",
    "print(f\"The portion of zero-expression sequences is {portion_0:.2f}\")"
   ]
  },
  {
   "cell_type": "code",
   "execution_count": 86,
   "metadata": {},
   "outputs": [],
   "source": [
    "Y = np.array(df['expression'] > 0)\n",
    "X = sequence_representations\n",
    "\n",
    "\n",
    "\n",
    "# Splitting the data into two groups: Trues and Falses\n",
    "X_true, Y_true = X[Y], Y[Y]\n",
    "X_false, Y_false = X[~Y], Y[~Y]\n",
    "\n",
    "# Determining the size of the smaller group\n",
    "min_size = min(Y_true.size, Y_false.size)-1\n",
    "\n",
    "# Sampling from the larger group\n",
    "X_true_sampled, _, Y_true_sampled, _ = train_test_split(X_true, Y_true, train_size=min_size, random_state=42)\n",
    "X_false_sampled, _, Y_false_sampled, _ = train_test_split(X_false, Y_false, train_size=min_size, random_state=42)\n",
    "\n",
    "# Concatenating the two subsets\n",
    "X_balanced = np.vstack((X_true_sampled, X_false_sampled))\n",
    "Y_balanced = np.concatenate((Y_true_sampled, Y_false_sampled))\n",
    "\n",
    "# Shuffle the balanced dataset\n",
    "p = np.random.permutation(len(Y_balanced))\n",
    "X_balanced = X_balanced[p]\n",
    "Y_balanced = Y_balanced[p]\n",
    "\n",
    "\n",
    "# select a stratified subset with 50% False and 50% True for Y\n",
    "from sklearn.model_selection import train_test_split\n",
    "X_train, X_test, y_train, y_test = train_test_split(X_balanced, Y_balanced, \n",
    "                                                    test_size=0.2, \n",
    "                                                    stratify=Y_balanced, \n",
    "                                                    random_state=42)"
   ]
  },
  {
   "cell_type": "code",
   "execution_count": null,
   "metadata": {},
   "outputs": [
    {
     "name": "stdout",
     "output_type": "stream",
     "text": [
      "Train accuracy:  0.6207203201422855\n",
      "Test accuracy:  0.6127886323268206\n"
     ]
    }
   ],
   "source": [
    "# Now let's train a logistic regression model \n",
    "from sklearn.linear_model import LogisticRegression\n",
    "from sklearn.metrics import roc_auc_score, roc_curve\n",
    "from sklearn.neural_network import MLPClassifier\n",
    "# svm \n",
    "from sklearn.svm import SVC\n",
    "\n",
    "# instantiate the model (using the default parameters)\n",
    "# max iter increased to avoid convergence warning\n",
    "classifier = LogisticRegression(max_iter=1000)\n",
    "\n",
    "# SVM classifier\n",
    "# classifier = SVC(kernel='linear', probability=True)\n",
    "\n",
    "# MLP classifier \n",
    "# classifier = MLPClassifier(solver='lbfgs', alpha=1e-5, hidden_layer_sizes=(1000, 2), random_state=1)\n",
    "\n",
    "# fit the model with data\n",
    "classifier.fit(X_train,y_train)\n",
    "\n",
    "# predict the response values for the observations in X\n",
    "y_pred = classifier.predict(X_test)\n",
    "\n",
    "# compute the ROC AUC score\n",
    "roc_auc_score(y_test, y_pred)\n",
    "\n",
    "# compute the ROC AUC score\n",
    "roc_auc_score(y_test, y_pred)\n",
    "\n",
    "# compute train/test accuracy \n",
    "from sklearn.metrics import accuracy_score\n",
    "y_pred_train = classifier.predict(X_train)\n",
    "y_pred_test = classifier.predict(X_test)\n",
    "\n",
    "print(\"=== RESULTS ON CLASSIFYING NON-ZERO EXPRESSION (Balanced Dataset) ===\")\n",
    "print(\"Train accuracy: \", accuracy_score(y_train, y_pred_train))\n",
    "print(\"Test accuracy: \", accuracy_score(y_test, y_pred_test))"
   ]
  },
  {
   "cell_type": "markdown",
   "metadata": {},
   "source": [
    "# Performing regression\n",
    "\n",
    " 1. Find `sequence_representations` based on `token_representations` (mean or flatten)"
   ]
  },
  {
   "cell_type": "code",
   "execution_count": 87,
   "metadata": {},
   "outputs": [
    {
     "name": "stdout",
     "output_type": "stream",
     "text": [
      "sequence_representations tensor holds: \n",
      " - 5812 sequences \n",
      " - 1280-dimensional embeddings for each sequence.\n"
     ]
    }
   ],
   "source": [
    "# Extract the mean token representation for each sequence\n",
    "mode = 'mean'\n",
    "\n",
    "if mode == 'mean': \n",
    "    sequence_representations = token_representations.mean(1)\n",
    "elif mode == 'flatten':\n",
    "    sequence_representations = token_representations.reshape(5812, 1280*182)\n",
    "    sequence_representations.shape\n",
    "\n",
    "print(f\"sequence_representations tensor holds: \\n - {sequence_representations.shape[0]} sequences \\n - {sequence_representations.shape[1]}-dimensional embeddings for each sequence.\")\n",
    "assert len(sequence_representations.shape) == 2"
   ]
  },
  {
   "cell_type": "markdown",
   "metadata": {},
   "source": [
    "We will now convert to numpy array. "
   ]
  },
  {
   "cell_type": "code",
   "execution_count": 88,
   "metadata": {},
   "outputs": [
    {
     "data": {
      "text/plain": [
       "torch.Size([5812, 1280])"
      ]
     },
     "execution_count": 88,
     "metadata": {},
     "output_type": "execute_result"
    }
   ],
   "source": [
    "# convert sequence representations to numpy array\n",
    "# sequence_representations = sequence_representations.numpy()\n",
    "sequence_representations.shape"
   ]
  },
  {
   "cell_type": "markdown",
   "metadata": {},
   "source": [
    "### Fit the Linear Model \n",
    "\n",
    "We will fit a regularized linear model to map from `sequence_representations` \n",
    "and one of the label columns from the dataframe (e.g., `expression`). "
   ]
  },
  {
   "cell_type": "code",
   "execution_count": 53,
   "metadata": {},
   "outputs": [
    {
     "name": "stdout",
     "output_type": "stream",
     "text": [
      "Mask reduction:  5812 --> 1407\n"
     ]
    }
   ],
   "source": [
    "# control panel\n",
    "label_column = 'log_expression'\n",
    "mask_policy = 'non_zero_expression' # or 'none'\n",
    "\n",
    "\n",
    "\n",
    "if mask_policy == 'non_zero_expression':\n",
    "    mask = np.array(df['expression'] > 1e-9)\n",
    "elif mask_policy == 'none':\n",
    "    mask = np.ones(len(df), dtype=bool)\n",
    "else: \n",
    "    raise ValueError(f\"Invalid mask policy: {mask_policy}\")\n",
    "\n",
    "\n",
    "\n",
    "X = sequence_representations\n",
    "Y = np.array(df[label_column].tolist())\n",
    "\n",
    "X_masked = X[mask, :]\n",
    "Y_masked = Y[mask]\n",
    "\n",
    "print(\"Mask reduction: \", len(X), '-->', len(Y_masked))"
   ]
  },
  {
   "cell_type": "code",
   "execution_count": 54,
   "metadata": {},
   "outputs": [
    {
     "data": {
      "text/plain": [
       "(1407,)"
      ]
     },
     "execution_count": 54,
     "metadata": {},
     "output_type": "execute_result"
    }
   ],
   "source": [
    "Y_masked.shape"
   ]
  },
  {
   "cell_type": "code",
   "execution_count": 55,
   "metadata": {},
   "outputs": [
    {
     "name": "stdout",
     "output_type": "stream",
     "text": [
      "r^2 on test set:  0.08638606834017548\n",
      "r^2 on train set:  0.30123110312007273\n"
     ]
    }
   ],
   "source": [
    "# train linear regression model from sequence_oredictions to label_column\n",
    "from sklearn.linear_model import LinearRegression, Ridge\n",
    "from sklearn.svm import SVR\n",
    "from sklearn.model_selection import train_test_split\n",
    "\n",
    "# split into train and test sets\n",
    "\n",
    "X_train, X_test, y_train, y_test = train_test_split(X_masked, Y_masked, \n",
    "                                                    test_size=0.25, \n",
    "                                                    random_state=45, \n",
    "                                                    stratify=Y_masked>Y_masked.mean())\n",
    "\n",
    "# fit model\n",
    "# model = LinearRegression()\n",
    "# model = SVR()\n",
    "model = Ridge(alpha=0.1)\n",
    "model.fit(X_train, y_train)\n",
    "\n",
    "\n",
    "# evaluate model\n",
    "y_pred = model.predict(X_test)\n",
    "\n",
    "# r^2 on test set \n",
    "r2 = model.score(X_test, y_test)\n",
    "print(\"r^2 on test set: \", r2)\n",
    "\n",
    "# r^2 on train set\n",
    "r2 = model.score(X_train, y_train)\n",
    "print(\"r^2 on train set: \", r2)"
   ]
  },
  {
   "cell_type": "markdown",
   "metadata": {},
   "source": [
    "## Analyzing the Model"
   ]
  },
  {
   "cell_type": "code",
   "execution_count": 56,
   "metadata": {},
   "outputs": [
    {
     "data": {
      "image/png": "[encoded data removed]",
      "text/plain": [
       "<Figure size 640x480 with 1 Axes>"
      ]
     },
     "metadata": {},
     "output_type": "display_data"
    }
   ],
   "source": [
    "plt.hist(y_train, label='y_train')\n",
    "plt.hist(y_test, label='y_test')\n",
    "plt.legend()\n",
    "plt.show()"
   ]
  },
  {
   "cell_type": "code",
   "execution_count": 57,
   "metadata": {},
   "outputs": [
    {
     "data": {
      "text/plain": [
       "array([ 1.24851785,  2.20342738,  2.61860551, ..., -1.11450246,\n",
       "       -2.01824704, -1.06380772])"
      ]
     },
     "execution_count": 57,
     "metadata": {},
     "output_type": "execute_result"
    }
   ],
   "source": [
    "# model weights \n",
    "model.coef_ "
   ]
  },
  {
   "cell_type": "code",
   "execution_count": 58,
   "metadata": {},
   "outputs": [
    {
     "data": {
      "image/png": "[encoded data removed]",
      "text/plain": [
       "<Figure size 640x480 with 1 Axes>"
      ]
     },
     "metadata": {},
     "output_type": "display_data"
    }
   ],
   "source": [
    "# plot predicted vs. actual\n",
    "plt.scatter(y_test, y_pred)\n",
    "plt.xlabel('Actual')\n",
    "plt.ylabel('Predicted')\n",
    "plt.title('Predicted vs. Actual')\n",
    "plt.show()"
   ]
  },
  {
   "cell_type": "code",
   "execution_count": 49,
   "metadata": {},
   "outputs": [
    {
     "data": {
      "text/plain": [
       "(array([ 1.,  0.,  0.,  1.,  0.,  0.,  1.,  0.,  0.,  2.,  0.,  0., 13.,\n",
       "         0.,  3.,  0.,  0., 11.,  0.,  3.,  4.,  1.,  0., 35.,  0.,  1.,\n",
       "         2.,  0., 15.,  0.,  3.,  1.,  1.,  0., 59.,  1.,  1.,  1.,  3.,\n",
       "         7.,  0., 14.,  1.,  2.,  1., 33.,  0.,  0.,  3.,  6.,  0.,  0.,\n",
       "        18.,  1.,  3.,  1., 19.,  1.,  3.,  2., 10.,  4.,  1.,  8.,  1.,\n",
       "         8.,  2.,  6.,  0.,  4.,  2.,  3.,  0.,  0.,  4.,  3.,  2.,  3.,\n",
       "         2.,  0.,  1.,  2.,  1.,  0.,  2.,  0.,  1.,  0.,  0.,  0.,  1.,\n",
       "         0.,  1.,  0.,  0.,  0.,  1.,  0.,  0.,  1.]),\n",
       " array([-2.19722457, -2.13398098, -2.07073739, -2.0074938 , -1.94425021,\n",
       "        -1.88100662, -1.81776303, -1.75451944, -1.69127585, -1.62803226,\n",
       "        -1.56478867, -1.50154508, -1.43830149, -1.3750579 , -1.31181431,\n",
       "        -1.24857073, -1.18532714, -1.12208355, -1.05883996, -0.99559637,\n",
       "        -0.93235278, -0.86910919, -0.8058656 , -0.74262201, -0.67937842,\n",
       "        -0.61613483, -0.55289124, -0.48964765, -0.42640406, -0.36316047,\n",
       "        -0.29991688, -0.23667329, -0.1734297 , -0.11018611, -0.04694252,\n",
       "         0.01630107,  0.07954465,  0.14278824,  0.20603183,  0.26927542,\n",
       "         0.33251901,  0.3957626 ,  0.45900619,  0.52224978,  0.58549337,\n",
       "         0.64873696,  0.71198055,  0.77522414,  0.83846773,  0.90171132,\n",
       "         0.96495491,  1.0281985 ,  1.09144209,  1.15468568,  1.21792927,\n",
       "         1.28117286,  1.34441645,  1.40766004,  1.47090362,  1.53414721,\n",
       "         1.5973908 ,  1.66063439,  1.72387798,  1.78712157,  1.85036516,\n",
       "         1.91360875,  1.97685234,  2.04009593,  2.10333952,  2.16658311,\n",
       "         2.2298267 ,  2.29307029,  2.35631388,  2.41955747,  2.48280106,\n",
       "         2.54604465,  2.60928824,  2.67253183,  2.73577542,  2.799019  ,\n",
       "         2.86226259,  2.92550618,  2.98874977,  3.05199336,  3.11523695,\n",
       "         3.17848054,  3.24172413,  3.30496772,  3.36821131,  3.4314549 ,\n",
       "         3.49469849,  3.55794208,  3.62118567,  3.68442926,  3.74767285,\n",
       "         3.81091644,  3.87416003,  3.93740362,  4.00064721,  4.0638908 ,\n",
       "         4.12713439]),\n",
       " <BarContainer object of 100 artists>)"
      ]
     },
     "execution_count": 49,
     "metadata": {},
     "output_type": "execute_result"
    },
    {
     "data": {
      "image/png": "[encoded data removed]",
      "text/plain": [
       "<Figure size 640x480 with 1 Axes>"
      ]
     },
     "metadata": {},
     "output_type": "display_data"
    }
   ],
   "source": [
    "plt.hist(y_test, bins=100)"
   ]
  },
  {
   "cell_type": "code",
   "execution_count": 48,
   "metadata": {},
   "outputs": [
    {
     "data": {
      "text/plain": [
       "(array([ 1.,  0.,  0.,  0.,  0.,  0.,  1.,  2.,  1.,  1.,  0.,  1.,  0.,\n",
       "         0.,  2.,  1.,  0.,  3.,  3.,  1.,  7.,  1.,  2.,  1.,  2.,  3.,\n",
       "         3.,  5.,  3.,  3.,  7.,  3.,  6.,  3.,  8., 10.,  7.,  7., 10.,\n",
       "         7.,  7.,  9.,  8.,  6.,  7.,  7.,  9.,  9.,  2., 13.,  8., 13.,\n",
       "         7.,  7.,  6.,  6.,  3.,  4.,  2.,  7.,  6.,  3.,  9.,  3.,  1.,\n",
       "         6.,  5.,  4.,  4.,  5.,  1.,  4.,  5.,  1.,  6.,  0.,  3.,  1.,\n",
       "         2.,  4.,  2.,  1.,  6.,  1.,  2.,  0.,  0.,  0.,  2.,  3.,  1.,\n",
       "         1.,  1.,  0.,  1.,  0.,  1.,  0.,  1.,  1.]),\n",
       " array([-6.16005421e-01, -5.92360079e-01, -5.68714738e-01, -5.45069396e-01,\n",
       "        -5.21424055e-01, -4.97778714e-01, -4.74133372e-01, -4.50488061e-01,\n",
       "        -4.26842719e-01, -4.03197378e-01, -3.79552037e-01, -3.55906695e-01,\n",
       "        -3.32261354e-01, -3.08616012e-01, -2.84970671e-01, -2.61325330e-01,\n",
       "        -2.37680003e-01, -2.14034662e-01, -1.90389320e-01, -1.66743979e-01,\n",
       "        -1.43098637e-01, -1.19453304e-01, -9.58079621e-02, -7.21626207e-02,\n",
       "        -4.85172831e-02, -2.48719454e-02, -1.22660631e-03,  2.24187318e-02,\n",
       "         4.60640714e-02,  6.97094128e-02,  9.33547467e-02,  1.17000088e-01,\n",
       "         1.40645429e-01,  1.64290771e-01,  1.87936112e-01,  2.11581439e-01,\n",
       "         2.35226780e-01,  2.58872122e-01,  2.82517463e-01,  3.06162804e-01,\n",
       "         3.29808146e-01,  3.53453487e-01,  3.77098829e-01,  4.00744170e-01,\n",
       "         4.24389482e-01,  4.48034823e-01,  4.71680164e-01,  4.95325506e-01,\n",
       "         5.18970847e-01,  5.42616189e-01,  5.66261530e-01,  5.89906871e-01,\n",
       "         6.13552213e-01,  6.37197554e-01,  6.60842896e-01,  6.84488237e-01,\n",
       "         7.08133578e-01,  7.31778920e-01,  7.55424261e-01,  7.79069602e-01,\n",
       "         8.02714944e-01,  8.26360285e-01,  8.50005627e-01,  8.73650908e-01,\n",
       "         8.97296250e-01,  9.20941591e-01,  9.44586933e-01,  9.68232274e-01,\n",
       "         9.91877615e-01,  1.01552296e+00,  1.03916836e+00,  1.06281364e+00,\n",
       "         1.08645904e+00,  1.11010432e+00,  1.13374972e+00,  1.15739501e+00,\n",
       "         1.18104029e+00,  1.20468569e+00,  1.22833097e+00,  1.25197637e+00,\n",
       "         1.27562165e+00,  1.29926705e+00,  1.32291234e+00,  1.34655774e+00,\n",
       "         1.37020302e+00,  1.39384842e+00,  1.41749370e+00,  1.44113910e+00,\n",
       "         1.46478438e+00,  1.48842978e+00,  1.51207507e+00,  1.53572047e+00,\n",
       "         1.55936575e+00,  1.58301115e+00,  1.60665643e+00,  1.63030183e+00,\n",
       "         1.65394711e+00,  1.67759252e+00,  1.70123780e+00,  1.72488320e+00,\n",
       "         1.74852848e+00]),\n",
       " <BarContainer object of 100 artists>)"
      ]
     },
     "execution_count": 48,
     "metadata": {},
     "output_type": "execute_result"
    },
    {
     "data": {
      "image/png": "[encoded data removed]",
      "text/plain": [
       "<Figure size 640x480 with 1 Axes>"
      ]
     },
     "metadata": {},
     "output_type": "display_data"
    }
   ],
   "source": [
    "plt.hist(y_pred, bins=100)"
   ]
  },
  {
   "cell_type": "code",
   "execution_count": null,
   "metadata": {},
   "outputs": [],
   "source": []
  }
 ],
 "metadata": {
  "kernelspec": {
   "display_name": "env",
   "language": "python",
   "name": "python3"
  },
  "language_info": {
   "codemirror_mode": {
    "name": "ipython",
    "version": 3
   },
   "file_extension": ".py",
   "mimetype": "text/x-python",
   "name": "python",
   "nbconvert_exporter": "python",
   "pygments_lexer": "ipython3",
   "version": "3.9.16"
  }
 },
 "nbformat": 4,
 "nbformat_minor": 2
}
